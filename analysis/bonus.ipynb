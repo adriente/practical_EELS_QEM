{
 "cells": [
  {
   "cell_type": "markdown",
   "id": "1598d058",
   "metadata": {},
   "source": [
    "\n",
    "# Fitting using reference spectra\n",
    "\n",
    "With these few cells, you can use 2 reference spectra to fit your spectrum images and thus make more accurate quantifications of your data. The reference spectra have to share the same energy scale as the data.\n",
    "\n",
    "## Create a custom component.\n",
    "\n",
    "Hyperspy supports the creation of custom components. This is a powerful tool to design your own data analysis.\n",
    "\n",
    "For this component, the first two arguments ref_1 and ref_2 are the reference spectra (as numpy arrays). They will not change during the fitting procedure. The last arguments a_ref_1 and a_ref_2 are the learned weights of ref_1 and ref_2, respectively.\n"
   ]
  },
  {
   "cell_type": "code",
   "execution_count": null,
   "id": "87f192c2",
   "metadata": {},
   "outputs": [],
   "source": [
    "from hyperspy.component import Component\n",
    "import hyperspy.api as hs\n",
    "\n",
    "class ReferenceFitting(Component):\n",
    "    def __init__(self, ref_1 = None, ref_2 = None, a_ref_1=1, a_ref_2=2):\n",
    "        # Define the parameters\n",
    "        # Note that the reference spectra are not parameters\n",
    "        Component.__init__(self, ('a_ref_1', 'a_ref_2'))\n",
    "        \n",
    "        self.a_ref_1.value = a_ref_1\n",
    "        self.a_ref_2.value = a_ref_2\n",
    "\n",
    "        self.a_ref_1.bmin = 0.\n",
    "        self.a_ref_1.bmax = None\n",
    "        \n",
    "        self.a_ref_2.bmin = 0.\n",
    "        self.a_ref_2.bmax = None\n",
    "        \n",
    "        self.a_ref_1.grad = self.a_ref_1\n",
    "        self.a_ref_2.grad = self.a_ref_2\n",
    "        \n",
    "        assert ref_1 is not None, \"You need to define a first reference spectrum.\"\n",
    "        assert ref_2 is not None, \"You need to define a second reference spectrum.\"\n",
    "        \n",
    "        self.ref_1 = ref_1\n",
    "        self.ref_2 = ref_2\n",
    "\n",
    "    # Define the function as a function of the already defined parameters,\n",
    "    # x being the independent variable value (e.g. energy scale)\n",
    "    # In this particular case, there is no independant variable\n",
    "    def function(self, x):\n",
    "        a1 = self.a_ref_1.value\n",
    "        a2 = self.a_ref_2.value\n",
    "        return a1*self.ref_1 + a2*self.ref_2\n",
    "    \n",
    "    # Optionally, for faster execution, you can define the gradients of each parameter\n",
    "    def grad_a_ref_1(self, x):\n",
    "        \"\"\"\n",
    "        Returns d(function)/d(a_ref_1)\n",
    "        \"\"\"\n",
    "        return self.ref_1\n",
    "\n",
    "    def grad_a_ref_2(self, x):\n",
    "        \"\"\"\n",
    "        Returns d(function)/d(a_ref_2)\n",
    "        \"\"\"\n",
    "        return self.ref_2"
   ]
  },
  {
   "cell_type": "markdown",
   "id": "8e1b24f2",
   "metadata": {},
   "source": [
    "## Loading the data and initializing model\n",
    "\n",
    "The fitting of the edges are disabled so that there is no conflict with the reference spectra.\n",
    "\n",
    "The ReferenceFitting component is added to the list of components of the model.\n"
   ]
  },
  {
   "cell_type": "code",
   "execution_count": null,
   "id": "f5ad6ccb",
   "metadata": {},
   "outputs": [],
   "source": [
    "ref1 = hs.load()\n",
    "ref2 = hs.load()\n",
    "spim = hs.load()\n",
    "\n",
    "comp = ReferenceFitting(ref1.data,ref2.data,1,1)\n",
    "model = spim.create_model()\n",
    "\n",
    "model.disable_edges()\n",
    "model.extend([comp])"
   ]
  },
  {
   "cell_type": "code",
   "execution_count": null,
   "id": "7753ab50",
   "metadata": {},
   "outputs": [],
   "source": [
    "# /!\\ This can take a while /!\\\n",
    "model.multifit()"
   ]
  },
  {
   "cell_type": "code",
   "execution_count": null,
   "id": "9afb8863",
   "metadata": {},
   "outputs": [],
   "source": [
    "model.plot_results()"
   ]
  },
  {
   "cell_type": "code",
   "execution_count": null,
   "id": "4f77ce8f",
   "metadata": {},
   "outputs": [],
   "source": [
    "model.save('my_mlls.hspy')"
   ]
  }
 ],
 "metadata": {
  "language_info": {
   "name": "python"
  }
 },
 "nbformat": 4,
 "nbformat_minor": 5
}
