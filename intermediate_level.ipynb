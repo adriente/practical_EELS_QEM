{
 "cells": [
  {
   "cell_type": "markdown",
   "id": "008a6074",
   "metadata": {
    "tags": [],
    "toc-hr-collapsed": true
   },
   "source": [
    "# How to read this document\n",
    "\n",
    "This document is divided in two parts : \n",
    "- The first part is for the intermediate level tutorial. It is designed for a first contact with hyperspy.\n",
    "- The second part is for the expert level tutorial. It is designed for learning the advanced features of hyperspy.\n",
    "\n",
    "Not everything is intended to be read the from the first time. Optional comments along the document are marked by emojis : \n",
    "- ⭐ This is a tip, describing more in depth the inner workings of hyperspy.\n",
    "- 🏠 It's an optional comment. Something that will not be used here but that you can use back to your lab.\n"
   ]
  },
  {
   "cell_type": "markdown",
   "id": "82d8d218",
   "metadata": {
    "jp-MarkdownHeadingCollapsed": true,
    "tags": [],
    "toc-hr-collapsed": true
   },
   "source": [
    "# I. Introduction to Hyperspy\n",
    "\n",
    "Hyperspy is a tool for the visualisation and manipulation of high-dimensional data. The main features of Hyperspy are the following:\n",
    "- The Signal1D and Signal2D objects \n",
    "- Domain-specific features for EELS, EDX, etc ...\n",
    "- Model fitting\n",
    "- Machine learning\n",
    "\n",
    "In this practical we will give an introduction to the Signal objects blablabla"
   ]
  },
  {
   "cell_type": "markdown",
   "id": "d302b430",
   "metadata": {
    "toc-hr-collapsed": true
   },
   "source": [
    "# 🏠 I. Installing Hyperspy with anaconda\n",
    "\n",
    "This section is intended to help you to install hyperspy on your own computer in your own lab. **You can skip this part for the practical.**\n",
    "\n",
    "Anaconda is python package manager dedicated to science. Using Anaconda it is possible to create virtual environments. You can then manage different virtual environments to isolate different distributions of python packages. This way you can keep stable python distributions safe from unstable ones.\n",
    "\n",
    "We describe here the few steps required to create an environment with Hyperspy.\n",
    "\n",
    "### Install Anaconda\n",
    "\n",
    "Depending on your operating system install anaconda : https://www.anaconda.com/products/individual\n",
    "\n",
    "Then, launch the Anaconda Prompt, a console should appear.\n",
    "\n",
    "### Create a virtual environment\n",
    "\n",
    "Run the command : ```conda create --name myenv``` (change \"myenv\" by any name you like.)\n",
    "\n",
    "Your virtual environment is created but you're still in the default one called \"base\". You need to activate it by typing: ```conda activate myenv```\n",
    "\n",
    "### Installing packages\n",
    "\n",
    "When installing a package there are two solutions: \n",
    "1. Either it is part of the already available libraries \n",
    "2. Either you can access it from anaconda forge\n",
    "\n",
    "(1). Run the command : ```conda install package-name``` with for example: ```conda install scikit-learn```\n",
    "\n",
    "(2). The available python packages are listed on : https://anaconda.org/ . After searching for the library you want, you can click on its name in bold. There will be a list of commands to type and execute to install the selected package. For Hyperspy it is: ```conda install -c conda-forge hyperspy```\n",
    "\n",
    "### installing ipython\n",
    "\n",
    "The next few steps will enable you to run the virtual environment you created in ipython notebooks. In the Anaconda prompt run the following commands :\n",
    "- ```conda install jupyter```\n",
    "- ```conda install ipykernels```\n",
    "- ```python -m ipykernel install --user --name myenv```\n",
    "\n",
    "Now you can start the ipython notebook environment using: ```jupyter notebook```. You will be able to create ipython notebooks (top right corner) with the virtual environments you want. All the packages installed (and their versions) will be specific to that environment. "
   ]
  },
  {
   "cell_type": "markdown",
   "id": "bf45048f",
   "metadata": {
    "tags": []
   },
   "source": [
    "# I. Import Hyperspy\n",
    "\n",
    "⭐ We choose first a graphical backend that manage interactivity (```%matplotlib qt```).\n",
    "\n",
    "In python the libraries have to be imported to use their functions. For clarity, hyperspy will be imported with the name \"hs\". "
   ]
  },
  {
   "cell_type": "code",
   "execution_count": null,
   "id": "db4292b0",
   "metadata": {},
   "outputs": [],
   "source": [
    "%matplotlib qt\n",
    "import hyperspy.api as hs"
   ]
  },
  {
   "cell_type": "markdown",
   "id": "0df062d6",
   "metadata": {},
   "source": [
    "# I. Loading data\n",
    "\n",
    "Hyperspy is able to load and manage data from many different open-source and proprietary formats, such as: \n",
    "- dm3, dm4\n",
    "- emd, bcf\n",
    "- tiff, jpg, etc...\n",
    "\n",
    "For an exhaustive list : http://hyperspy.org/hyperspy-doc/current/user_guide/io.html#supported-formats\n",
    "\n",
    "⭐ Without arguments ```hs.load()```  makes a file explorer window pop up. You can also load a list of files."
   ]
  },
  {
   "cell_type": "code",
   "execution_count": null,
   "id": "5c3cbc52",
   "metadata": {},
   "outputs": [],
   "source": [
    "spim = hs.load(\"sim_spim_sigma5.hspy\")"
   ]
  },
  {
   "cell_type": "markdown",
   "id": "63a5989f",
   "metadata": {
    "toc-hr-collapsed": true
   },
   "source": [
    "# I. Data structure and visualisation\n",
    "\n",
    "The loaded data have a signal type, such as : `EELSSpectrum`, `EDSTEMSpectrum` or `EDSSEMSpectrum`.\n",
    "\n",
    "Optionnally the data can have a title. \n",
    "\n",
    "The main feature of hyperspy signals is the dimension. The dimensions are either navigation or signal. For a spectrum image there are two navigation dimensions X and Y and one signal dimension Z. It is noted : `(X,Y|Z)`\n",
    "\n",
    "⭐ If you want to developp a new application, hyperspy can support its implementation as a new signal type."
   ]
  },
  {
   "cell_type": "code",
   "execution_count": null,
   "id": "eae3be48",
   "metadata": {},
   "outputs": [],
   "source": [
    "print(spim)"
   ]
  },
  {
   "cell_type": "markdown",
   "id": "6840ddff",
   "metadata": {},
   "source": [
    "## I. Metadata\n",
    "\n",
    "The Signal object has a metadata attribute. Some of it is used for signal specific function (e.g. beam energy). In this tutorial all the relevant metatadata is already filled in.\n",
    "\n",
    "🏠 You can add new metadata categories this way : `spim.metadata.Category1 = {}` and new metadata entries this way : `spim.metadata.Category1.entry1 = 'entry1 value'`\n",
    "\n",
    "⭐For some of the proprietary file formats, some of the metadata are automatically read and loaded by hyperspy. Be careful, what is loaded and what is not.\n",
    "\n",
    "⭐If you want to build metadata by yourself, there are some helper function such as : `spim.set_microscope_parameters()` or `spim.add_elements()`"
   ]
  },
  {
   "cell_type": "code",
   "execution_count": null,
   "id": "355be1f5",
   "metadata": {},
   "outputs": [],
   "source": [
    "print(spim.metadata)"
   ]
  },
  {
   "cell_type": "markdown",
   "id": "07fa9521-0810-49a3-af85-10bbdf31d812",
   "metadata": {},
   "source": [
    "## I. Axes manager\n",
    "\n",
    "The signal object has an axes_manager attribute to manage the calibrations of both the navigation axes and the signal axis. The Graphical User Interface (GUI) enables you to edit the values. \n",
    "\n",
    "⭐ Just typing `spim.axes_manager` prints it. You can then acces the values using e.g. : `spim.axes_manager[0].scale` or `spim.axes_manager[axis_name].size`"
   ]
  },
  {
   "cell_type": "code",
   "execution_count": null,
   "id": "2ffec502",
   "metadata": {},
   "outputs": [],
   "source": [
    "spim.axes_manager.gui()"
   ]
  },
  {
   "cell_type": "markdown",
   "id": "cc0ce498-a7f4-448d-99f1-d34bef1e7fa6",
   "metadata": {},
   "source": [
    "## I. Plotting\n",
    "\n",
    "For 3 dimensional data, the plotting makes 2 windows pop-up. The first window contains an image in which the intensity of each pixel is the sum of the intensities of the corresponding spectrum (sum over the signal axis). A single pixel Region Of Interest is displayed in the top left of the image. The second window represents the spectrum associated to the ROI. \n",
    "\n",
    "You can move this ROI using arrow keys."
   ]
  },
  {
   "cell_type": "code",
   "execution_count": null,
   "id": "d0d97119-d087-4968-8d68-8649d88f2cd2",
   "metadata": {},
   "outputs": [],
   "source": [
    "spim.plot()"
   ]
  },
  {
   "cell_type": "markdown",
   "id": "07d9d761-21e0-469a-b059-043c7f8945be",
   "metadata": {},
   "source": [
    "### I. Advanced Plotting\n",
    "\n",
    "The code below is a way to improve the basic visualisation of hyperspy. In addition to the single pixel ROI (which cannot be removed), there is an ajustable ROI. A thrid window is also added and displays the sum of spectra in the adjustable ROI."
   ]
  },
  {
   "cell_type": "code",
   "execution_count": null,
   "id": "6fb664cc-0175-4d0b-9942-22d2d7821b39",
   "metadata": {},
   "outputs": [],
   "source": [
    "# Get safe coordinates to initialize the ROI\n",
    "half_h = spim.axes_manager[0].offset + spim.axes_manager[0].scale*0.5*spim.axes_manager[0].size \n",
    "half_v = spim.axes_manager[1].offset + spim.axes_manager[1].scale*0.5*spim.axes_manager[1].size\n",
    "third_h = spim.axes_manager[0].offset + spim.axes_manager[0].scale*0.333*spim.axes_manager[0].size \n",
    "third_v = spim.axes_manager[1].offset + spim.axes_manager[1].scale*0.333*spim.axes_manager[1].size \n",
    "\n",
    "# Create the ROI\n",
    "img_ROI=hs.roi.RectangularROI(third_h,\n",
    "                              third_v,\n",
    "                              half_h,\n",
    "                              half_v)\n",
    "\n",
    "# Plot the spim as usual\n",
    "spim.plot()\n",
    "# Link, interactively, the ROI to the spim\n",
    "spim_ROI=img_ROI.interactive(spim)\n",
    "\n",
    "# Compute interactively the sum over the ROI\n",
    "spectrum=hs.interactive(spim_ROI.sum,\n",
    "           event=spim_ROI.axes_manager.events.any_axis_changed)\n",
    "# Plot the computed sum\n",
    "spectrum.plot(True)"
   ]
  },
  {
   "cell_type": "markdown",
   "id": "492be86f-b0fb-476c-84ae-67bcdde2c417",
   "metadata": {
    "toc-hr-collapsed": true
   },
   "source": [
    "# I. Data Preprocessing"
   ]
  },
  {
   "cell_type": "markdown",
   "id": "8b2581c7-4564-4e27-8850-bc9cae74acdd",
   "metadata": {},
   "source": [
    "## I. Cropping\n",
    "\n",
    "The crop function can be used to cut out parts of the data. **Be careful : it overwrites the data.** The syntax is as follows : `spim.crop(axis,start,stop)`. Note that axis is either an integer or an axis name. \n",
    "\n",
    "For `start` and `stop`, the options are :\n",
    "- Integer indices : They do not take into account the calibration and correspond to matrix indices.\n",
    "- Float indices : They take into account the calibration.\n",
    "\n",
    "⭐Using `.inav` for navigation axes or `.isig` for signal axes is a more powerful way to slice data. It supports integer indexing, float indices and even string indices with e.g. `spim.inav[\"10 nm\",\"20 nm\"]`. It also supports advanced slicing such as `spim.isig[::2]` or `spim.inav[::,-1]`.\n",
    "\n"
   ]
  },
  {
   "cell_type": "code",
   "execution_count": null,
   "id": "52a4528d-f568-4c49-ae80-dc4528448218",
   "metadata": {},
   "outputs": [],
   "source": [
    "spim.crop(\"y\",10.0,20.0)"
   ]
  },
  {
   "cell_type": "markdown",
   "id": "e3a32717-5396-48cc-a7d3-e6c84a9b226e",
   "metadata": {},
   "source": [
    "## I. Spikes removal"
   ]
  },
  {
   "cell_type": "code",
   "execution_count": null,
   "id": "c5ecb062-b488-41c6-8925-bf1cd2c24266",
   "metadata": {},
   "outputs": [],
   "source": [
    "spim.spikes_removal_tool()"
   ]
  },
  {
   "cell_type": "markdown",
   "id": "b146f9f7-b34e-48f5-ac6b-8ed7c49984b4",
   "metadata": {},
   "source": [
    "## I. Energy alignement"
   ]
  },
  {
   "cell_type": "code",
   "execution_count": null,
   "id": "95350da0-c671-485e-b739-fef182d342e4",
   "metadata": {},
   "outputs": [],
   "source": [
    "# spim.align_1D"
   ]
  },
  {
   "cell_type": "markdown",
   "id": "b83eb958-7df6-422c-8525-7731735b8ad3",
   "metadata": {},
   "source": [
    "## I. Deconvolution"
   ]
  },
  {
   "cell_type": "code",
   "execution_count": null,
   "id": "9229da9d-6b2a-4c21-a2c0-b0b4016a6608",
   "metadata": {},
   "outputs": [],
   "source": [
    "# spim.deconvolution"
   ]
  },
  {
   "cell_type": "markdown",
   "id": "c9e0d289-1cc5-40e3-a0bb-5c7e272c8d24",
   "metadata": {
    "toc-hr-collapsed": true
   },
   "source": [
    "# I. Chemical mapping"
   ]
  },
  {
   "cell_type": "markdown",
   "id": "7430d2d4-76c6-458e-b0a9-b520e896b557",
   "metadata": {},
   "source": [
    "## I. Searching for core-loss edges\n",
    "\n",
    "You can find the different edges in your data using the GUI tool provided by hyperspy. Click on the help button to learn how to use it. Once an energy range is selected, click on refresh table to get the information you want.\n",
    "\n",
    "⭐For many functions of hyperspy calling `spim.function()` starts a gui while `spim.function(*args,**kwargs)` executes the function directly, skipping the gui."
   ]
  },
  {
   "cell_type": "code",
   "execution_count": null,
   "id": "4604b50e-932e-4d59-956d-0be076047f0f",
   "metadata": {},
   "outputs": [],
   "source": [
    "spim.edges_at_energy()"
   ]
  },
  {
   "cell_type": "markdown",
   "id": "3b9fea6b-fc7b-4dd9-a330-6f8f4040fd88",
   "metadata": {},
   "source": [
    "## I. Background removal\n",
    "\n",
    "There is an interactive background removal tool in hyperpsy you can call using : `spim.remove_background()`. Below the cell where the function is executed, there is a \"Help\" button. It will explain you how to use the tool. **Be careful : Once you click on apply, the spim object is modified.**\n",
    "\n",
    "For EELS, the Power Law background is the most adapted.\n",
    "\n",
    "⭐ If you bypass the GUI, you can put the result in a new object. This can be done as such : `new_spim = spim.remove_background((energy_start,energy_end))`"
   ]
  },
  {
   "cell_type": "code",
   "execution_count": null,
   "id": "35663c62-3ae7-43eb-afaf-02335fe83ad6",
   "metadata": {},
   "outputs": [],
   "source": [
    "spim.remove_background()"
   ]
  },
  {
   "cell_type": "markdown",
   "id": "dc46fb82-eab0-41cd-99f8-3a1657670e9e",
   "metadata": {},
   "source": [
    "## I. Integrating peaks and generating maps\n",
    "\n",
    "**This step should be performed only on background subtracted spim.** \n",
    "\n",
    "- The first cell will make the a window pop-up. The window displays the sum of all the spectra of the spectrum image and a selection ROI. Once you're happy with the selection you can execute the next cell.\n",
    "- Plot the map of integrated counts inside the selected energy range.\n",
    "\n",
    "You can then go back and forth between the 2 cells below."
   ]
  },
  {
   "cell_type": "code",
   "execution_count": null,
   "id": "ca09842a-0978-43d3-a58d-9602c13627b0",
   "metadata": {},
   "outputs": [],
   "source": [
    "# Get safe initial coordinates for the ROI.\n",
    "half_e = spim.axes_manager[2].offset + spim.axes_manager[2].scale*0.5*spim.axes_manager[2].size\n",
    "third_e = spim.axes_manager[2].offset + spim.axes_manager[2].scale*0.333*spim.axes_manager[2].size\n",
    "\n",
    "# Sum over all the spectra of the spim\n",
    "full_spectrum = spim.integrate1D(axis = (0,1))\n",
    "# Initialize the ROI\n",
    "spectrum_ROI = hs.roi.SpanROI(third_e,half_e)\n",
    "\n",
    "# Plot both the spectrum and the ROI (interactively)\n",
    "full_spectrum.plot(True)\n",
    "spectrum_ROI.interactive(full_spectrum)"
   ]
  },
  {
   "cell_type": "code",
   "execution_count": null,
   "id": "78283851-393f-4780-bb9a-5358322580d8",
   "metadata": {},
   "outputs": [],
   "source": [
    "chem_map = spim.isig[spectrum_ROI.left:spectrum_ROI.right].sum(axis = 2)\n",
    "chem_map.plot()"
   ]
  },
  {
   "cell_type": "markdown",
   "id": "3a0487e5-67ff-4c59-b725-fee820db00a2",
   "metadata": {},
   "source": [
    "## I. Saving the maps"
   ]
  },
  {
   "cell_type": "code",
   "execution_count": null,
   "id": "39f2e3bb-6436-4e13-b856-7d0c924480e5",
   "metadata": {},
   "outputs": [],
   "source": [
    "chem_map.save(\"filename.hspy\")"
   ]
  },
  {
   "cell_type": "markdown",
   "id": "f266e414-3d6b-4a8f-8599-d864e76c1b8f",
   "metadata": {},
   "source": [
    "# 🏠 I. Converting `.hspy` data to Digital Micrograph (DM) readable format\n",
    "\n",
    "You first need to install this plugin in DM : http://hyperspy.org/hyperspy-doc/current/user_guide/io.html#importrpl-digital-micrograph-plugin\n",
    "\n",
    "Then you just need to save your data in `.rpl` format using hyperspy. It will produce `.rpl` and `.raw` files. Using the DM plugin you'll be able to open the `.rpl` file and read your data in DM."
   ]
  },
  {
   "cell_type": "code",
   "execution_count": null,
   "id": "1b0cbb93-e5d3-4542-b41c-45858cd5f3ac",
   "metadata": {},
   "outputs": [],
   "source": [
    "spim.save(\"spim.rpl\")"
   ]
  },
  {
   "cell_type": "markdown",
   "id": "b7096850-0ec2-4153-b0c3-6699744d7c25",
   "metadata": {},
   "source": [
    "# I. Spectrum fitting 1D\n",
    "\n",
    "Here the fitting is performed on the sum of spectra over the whole spectrum image. **The background is taken into account in the model fitting, thus avoid using background subtracted data.**"
   ]
  },
  {
   "cell_type": "code",
   "execution_count": null,
   "id": "1fa69596-4aba-4eb0-81c0-852542ab2686",
   "metadata": {},
   "outputs": [],
   "source": [
    "spectrum = spim.sum(axis = (0,1))\n",
    "\n",
    "model = spim.create_model()"
   ]
  },
  {
   "cell_type": "code",
   "execution_count": null,
   "id": "55973bbd-cc01-4acd-ae2c-dc10ad71c483",
   "metadata": {},
   "outputs": [],
   "source": [
    "spectrum.plot()"
   ]
  },
  {
   "cell_type": "markdown",
   "id": "8a072e47-04ee-4f90-a50d-cdb21f2cba78",
   "metadata": {},
   "source": [
    "# 🏠 I. Fitting using reference spectra"
   ]
  },
  {
   "cell_type": "code",
   "execution_count": null,
   "id": "1729e1e7-05d8-4335-ba3b-3b9c836f385e",
   "metadata": {},
   "outputs": [],
   "source": []
  }
 ],
 "metadata": {
  "kernelspec": {
   "display_name": "qem",
   "language": "python",
   "name": "qem"
  },
  "language_info": {
   "codemirror_mode": {
    "name": "ipython",
    "version": 3
   },
   "file_extension": ".py",
   "mimetype": "text/x-python",
   "name": "python",
   "nbconvert_exporter": "python",
   "pygments_lexer": "ipython3",
   "version": "3.8.12"
  },
  "varInspector": {
   "cols": {
    "lenName": 16,
    "lenType": 16,
    "lenVar": 40
   },
   "kernels_config": {
    "python": {
     "delete_cmd_postfix": "",
     "delete_cmd_prefix": "del ",
     "library": "var_list.py",
     "varRefreshCmd": "print(var_dic_list())"
    },
    "r": {
     "delete_cmd_postfix": ") ",
     "delete_cmd_prefix": "rm(",
     "library": "var_list.r",
     "varRefreshCmd": "cat(var_dic_list()) "
    }
   },
   "types_to_exclude": [
    "module",
    "function",
    "builtin_function_or_method",
    "instance",
    "_Feature"
   ],
   "window_display": false
  }
 },
 "nbformat": 4,
 "nbformat_minor": 5
}
