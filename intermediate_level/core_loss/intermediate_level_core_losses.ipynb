{
 "cells": [
  {
   "cell_type": "markdown",
   "id": "008a6074",
   "metadata": {
    "tags": [],
    "toc-hr-collapsed": true
   },
   "source": [
    "# How to read this document\n",
    "\n",
    "This document is designed to showcase the different basic functionality of Hyperspy. For this practical you're intended to build your own notebook with the help of this document. \n",
    "\n",
    "We've given you a line spectrum (lisp) called \"list_core_loss.hspy\", its associated ADF profile: \"ADF_core_loss.hspy\", its associated low loss: \"low_loss_core_loss.hspy\" and its corresponding ADF survey image \"\". In this practical you are supposed to explore the data and understand what they represent. To guide you, here are a few questions :\n",
    "\n",
    "- What is the scale of the observed object ? In what energy range, the EELS was measured ?\n",
    "- What are the different core loss edges present in the data ? \n",
    "- How many phases can you find along the line spectra ?\n",
    "- What elements are present in the different phases and in which proportions ?\n",
    "- What happens when you fit the data using reference spectra ? Why ? How to improve on that ?\n",
    "\n",
    "To succeed at this practical, answer those questions in a separate ipython notebook. If you want to go further, you are welcome to move to the next level.\n",
    "\n",
    "**The jupyter notebook extensions are installed. Thus, you can navigate between sections using the left panel**\n",
    "\n",
    "Not everything is intended to be read the from the first time. Optional comments along the document are marked by emojis: \n",
    "- ⭐ This is a tip, describing more in depth the inner workings of hyperspy.\n",
    "- 🏠 It's an optional comment. Something that you may not use here but that you can use back to your lab.\n",
    "\n",
    "The data were kindly provided by: **Cécile Marcelot**."
   ]
  },
  {
   "cell_type": "markdown",
   "id": "82d8d218",
   "metadata": {
    "jp-MarkdownHeadingCollapsed": true,
    "tags": [],
    "toc-hr-collapsed": true
   },
   "source": [
    "# Introduction to Hyperspy\n",
    "\n",
    "Hyperspy is a tool for the visualisation and manipulation of high-dimensional data. The main features of Hyperspy are the following:\n",
    "- The Signal1D and Signal2D objects\n",
    "- Domain-specific features for EELS, EDX, etc ...\n",
    "- Model fitting\n",
    "- Machine learning\n",
    "\n",
    "This document will guide through the following steps : \n",
    "- Manipulation and visualisation of data using the Signal objects. \n",
    "- Various Data preprocessing such as energy alignement or spikes removal.\n",
    "- How to perform a chemical map.\n",
    "- How to perform a 1D and 3D fit.\n",
    "\n",
    "A large part of this practical is inspired from the hyperspy documentation : http://hyperspy.org/hyperspy-doc/current/index.html"
   ]
  },
  {
   "cell_type": "markdown",
   "id": "d302b430",
   "metadata": {},
   "source": [
    "# 🏠 Installing Hyperspy with anaconda\n",
    "\n",
    "This section is intended to help you to install hyperspy on your own computer in your own lab. **You can skip this part for the practical.**\n",
    "\n",
    "Anaconda is python package manager dedicated to science. Using Anaconda it is possible to create virtual environments. You can then manage different virtual environments to isolate different distributions of python packages. This way you can keep stable python distributions safe from unstable ones.\n",
    "\n",
    "We describe here the few steps required to create an environment with Hyperspy.\n",
    "\n",
    "### 🏠 Install Anaconda\n",
    "\n",
    "Depending on your operating system install anaconda : https://www.anaconda.com/products/individual\n",
    "\n",
    "Then, launch the Anaconda Prompt, a console should appear.\n",
    "\n",
    "### 🏠 Create a virtual environment\n",
    "\n",
    "Run the command : ```conda create --name myenv``` (change \"myenv\" by any name you like.)\n",
    "\n",
    "Your virtual environment is created but you're still in the default one called \"base\". You need to activate it by typing: ```conda activate myenv```\n",
    "\n",
    "### 🏠 Installing packages\n",
    "\n",
    "When installing a package there are two solutions: \n",
    "1. Either it is part of the already available libraries \n",
    "2. Either you can access it from anaconda forge\n",
    "\n",
    "(1). Run the command : ```conda install package-name``` with for example: ```conda install scikit-learn```\n",
    "\n",
    "(2). The available python packages are listed on : https://anaconda.org/ . After searching for the library you want, you can click on its name in bold. There will be a list of commands to type and execute to install the selected package. For Hyperspy it is: ```conda install -c conda-forge hyperspy```\n",
    "\n",
    "### 🏠 installing ipython\n",
    "\n",
    "The next few steps will enable you to run the virtual environment you created in ipython notebooks. In the Anaconda prompt run the following commands :\n",
    "- ```conda install jupyter```\n",
    "- ```conda install ipykernels```\n",
    "- ```python -m ipykernel install --user --name myenv```\n",
    "\n",
    "Now you can start the ipython notebook environment using: ```jupyter notebook```. You will be able to create ipython notebooks (top right corner) with the virtual environments you want. All the packages installed (and their versions) will be specific to that environment. "
   ]
  },
  {
   "cell_type": "markdown",
   "id": "bf45048f",
   "metadata": {
    "tags": []
   },
   "source": [
    "# Import Hyperspy\n",
    "\n",
    "⭐ We choose first a graphical backend that manage interactivity (```%matplotlib qt```).\n",
    "\n",
    "In python the libraries have to be imported to use their functions. For clarity, hyperspy will be imported with the name \"hs\". "
   ]
  },
  {
   "cell_type": "code",
   "execution_count": null,
   "id": "db4292b0",
   "metadata": {},
   "outputs": [],
   "source": [
    "%matplotlib qt\n",
    "import hyperspy.api as hs"
   ]
  },
  {
   "cell_type": "markdown",
   "id": "0df062d6",
   "metadata": {},
   "source": [
    "# Loading data\n",
    "\n",
    "Hyperspy is able to load and manage data from many different open-source and proprietary formats, such as: \n",
    "- dm3, dm4\n",
    "- emd, bcf\n",
    "- tiff, jpg, etc...\n",
    "\n",
    "For an exhaustive list : http://hyperspy.org/hyperspy-doc/current/user_guide/io.html#supported-formats\n",
    "\n",
    "⭐ Without arguments ```hs.load()```  makes a file explorer window pop up. You can also load a list of files."
   ]
  },
  {
   "cell_type": "code",
   "execution_count": null,
   "id": "5c3cbc52",
   "metadata": {},
   "outputs": [],
   "source": [
    "lisp = hs.load(\"lisp_core_loss.hspy\")\n",
    "ll = hs.load(\"low_loss_core_loss.hspy\")\n",
    "adf = hs.load(\"ADF_core_loss.hspy\")\n",
    "adf_survey = hs.load(\"ADF_survey_core_loss.hspy\")"
   ]
  },
  {
   "cell_type": "code",
   "execution_count": null,
   "id": "04b6e87a-716d-4319-b29d-1e37afd9b87c",
   "metadata": {},
   "outputs": [],
   "source": [
    "lisp.plot()"
   ]
  },
  {
   "cell_type": "markdown",
   "id": "63a5989f",
   "metadata": {
    "toc-hr-collapsed": true
   },
   "source": [
    "# Data structure and visualisation\n",
    "\n",
    "The loaded data have a signal type, such as : `EELSSpectrum`, `EDSTEMSpectrum` or `EDSSEMSpectrum`.\n",
    "\n",
    "Optionnally the data can have a title. \n",
    "\n",
    "The main feature of hyperspy signals is the dimension. The dimensions are either navigation or signal. For a spectrum line there is one navigation dimensions X and one signal dimension Z. It is noted : `(X|Z)`\n",
    "\n",
    "⭐ If you want to developp a new application, hyperspy can support its implementation as a new signal type."
   ]
  },
  {
   "cell_type": "code",
   "execution_count": null,
   "id": "eae3be48",
   "metadata": {},
   "outputs": [],
   "source": [
    "print(lisp)"
   ]
  },
  {
   "cell_type": "markdown",
   "id": "6840ddff",
   "metadata": {},
   "source": [
    "## I. Metadata\n",
    "\n",
    "The Signal object has a metadata attribute. Some of it is used for signal specific function (e.g. beam energy). In this tutorial all the relevant metatadata is already filled in.\n",
    "\n",
    "🏠 You can add new metadata categories this way : `lisp.metadata.Category1 = {}` and new metadata entries this way : `lisp.metadata.Category1.entry1 = 'entry1 value'`\n",
    "\n",
    "⭐For some of the proprietary file formats, some of the metadata are automatically read and loaded by hyperspy. Be careful, what is loaded and what is not.\n",
    "\n",
    "⭐If you want to build metadata by yourself, there are some helper function such as : `lisp.set_microscope_parameters()` or `lisp.add_elements()`"
   ]
  },
  {
   "cell_type": "code",
   "execution_count": null,
   "id": "355be1f5",
   "metadata": {},
   "outputs": [],
   "source": [
    "print(lisp.metadata)"
   ]
  },
  {
   "cell_type": "markdown",
   "id": "07fa9521-0810-49a3-af85-10bbdf31d812",
   "metadata": {},
   "source": [
    "## I. Axes manager\n",
    "\n",
    "The signal object has an axes_manager attribute to manage the calibrations of both the navigation axes and the signal axis. The Graphical User Interface (GUI) enables you to edit the values. \n",
    "\n",
    "⭐ Just typing `lisp.axes_manager` prints it. You can then acces the values using e.g. : `lisp.axes_manager[0].scale` or `lisp.axes_manager[axis_name].size`"
   ]
  },
  {
   "cell_type": "code",
   "execution_count": null,
   "id": "2ffec502",
   "metadata": {},
   "outputs": [],
   "source": [
    "lisp.axes_manager.gui()"
   ]
  },
  {
   "cell_type": "markdown",
   "id": "cc0ce498-a7f4-448d-99f1-d34bef1e7fa6",
   "metadata": {},
   "source": [
    "## I. Plotting\n",
    "\n",
    "The plotting makes 2 windows pop-up. The first window contains an image where the vertical direction is the stack of different spectra (i.e. along the line spectrum) and the horizontal dimension is the spectral one with the high intensity features correspond to core loss edges. A single line (or spectrum) Region Of Interest (ROI) is displayed in the top left of the image. The second window represents the spectrum associated to the ROI. \n",
    "\n",
    "You can move this ROI using arrow keys."
   ]
  },
  {
   "cell_type": "code",
   "execution_count": null,
   "id": "d0d97119-d087-4968-8d68-8649d88f2cd2",
   "metadata": {},
   "outputs": [],
   "source": [
    "lisp.plot()"
   ]
  },
  {
   "cell_type": "markdown",
   "id": "492be86f-b0fb-476c-84ae-67bcdde2c417",
   "metadata": {
    "tags": []
   },
   "source": [
    "# Data Preprocessing"
   ]
  },
  {
   "cell_type": "markdown",
   "id": "8b2581c7-4564-4e27-8850-bc9cae74acdd",
   "metadata": {},
   "source": [
    "## Cropping\n",
    "\n",
    "The crop function can be used to cut out parts of the data. **Be careful : it overwrites the data.** The syntax is as follows : `lisp.crop(axis,start,stop)`. Note that axis is either an integer or an axis name. \n",
    "\n",
    "For `start` and `stop`, the options are :\n",
    "- Integer indices : They do not take into account the calibration and correspond to matrix indices.\n",
    "- Float indices : They take into account the calibration.\n",
    "\n",
    "⭐Using `.inav` for navigation axes or `.isig` for signal axes is a more powerful way to slice data. It supports integer indexing, float indices and even string indices with e.g. `lisp.inav[\"10 nm\",\"20 nm\"]`. It also supports advanced slicing such as `lisp.isig[::2]` or `lisp.inav[::,-1]`.\n",
    "\n"
   ]
  },
  {
   "cell_type": "code",
   "execution_count": null,
   "id": "52a4528d-f568-4c49-ae80-dc4528448218",
   "metadata": {},
   "outputs": [],
   "source": [
    "lisp.crop(1,10.0,20.0)"
   ]
  },
  {
   "cell_type": "markdown",
   "id": "e3a32717-5396-48cc-a7d3-e6c84a9b226e",
   "metadata": {},
   "source": [
    "## 🏠 Spikes removal\n",
    "\n",
    "In this particular case there is no need to remove the cosmic X-rays. In general however, cosmic X-rays can be measured by the detector and their high intensity tends to produce outliers in the data. \n",
    "**This tool has a well documented GUI, using the integrated instructions it should be straightforward to remove X-ray spikes.**"
   ]
  },
  {
   "cell_type": "code",
   "execution_count": null,
   "id": "c5ecb062-b488-41c6-8925-bf1cd2c24266",
   "metadata": {},
   "outputs": [],
   "source": [
    "lisp.spikes_removal_tool()"
   ]
  },
  {
   "cell_type": "markdown",
   "id": "c9e0d289-1cc5-40e3-a0bb-5c7e272c8d24",
   "metadata": {},
   "source": [
    "# Chemical mapping"
   ]
  },
  {
   "cell_type": "markdown",
   "id": "7430d2d4-76c6-458e-b0a9-b520e896b557",
   "metadata": {},
   "source": [
    "## Searching for core-loss edges\n",
    "\n",
    "You can find the different edges in your data using the GUI tool provided by hyperspy. **Click on the help button to learn how to use it.** Once an energy range is selected, click on refresh table to get the information you want.\n",
    "\n",
    "⭐For many functions of hyperspy calling `lisp.function()` starts a gui while `lisp.function(*args,**kwargs)` executes the function directly, skipping the gui."
   ]
  },
  {
   "cell_type": "code",
   "execution_count": null,
   "id": "4604b50e-932e-4d59-956d-0be076047f0f",
   "metadata": {},
   "outputs": [],
   "source": [
    "lisp.edges_at_energy()"
   ]
  },
  {
   "cell_type": "markdown",
   "id": "3b9fea6b-fc7b-4dd9-a330-6f8f4040fd88",
   "metadata": {},
   "source": [
    "## Background removal\n",
    "\n",
    "There is an interactive background removal tool in hyperpsy you can call using : `lisp.remove_background()`. Below the cell where the function is executed, there is a \"Help\" button. It will explain you how to use the tool. **Be careful : Once you click on apply, the spim object is modified.**\n",
    "\n",
    "For EELS, the Power Law background is the most adapted.\n",
    "\n",
    "⭐ If you bypass the GUI, you can put the result in a new object. This can be done as such : `new_lisp = lisp.remove_background((energy_start,energy_end))`"
   ]
  },
  {
   "cell_type": "code",
   "execution_count": null,
   "id": "35663c62-3ae7-43eb-afaf-02335fe83ad6",
   "metadata": {},
   "outputs": [],
   "source": [
    "lisp.remove_background()"
   ]
  },
  {
   "cell_type": "markdown",
   "id": "dc46fb82-eab0-41cd-99f8-3a1657670e9e",
   "metadata": {},
   "source": [
    "## Integrating peaks and generating profiles\n",
    "\n",
    "**This step should be performed only on background subtracted spim.** "
   ]
  },
  {
   "cell_type": "markdown",
   "id": "041650d7-4192-43bd-8de1-f7cc2ed3200c",
   "metadata": {},
   "source": [
    "## Span ROI\n",
    "\n",
    "**Execute this cell before the next one.** \n",
    "\n",
    "🏠 You don't need to understand what happens in that cell for this practical. It aims at subclassing the SpanROI of hyperspy to add a new functionality. You're welcome to use both cells below in your lab."
   ]
  },
  {
   "cell_type": "code",
   "execution_count": null,
   "id": "a95bc8af-f89d-477f-b33b-1e66edd0567e",
   "metadata": {},
   "outputs": [],
   "source": [
    "import numpy as np\n",
    "\n",
    "class cst_SpanROI (hs.roi.SpanROI) : \n",
    "    def mapping (self,spim = None, out_map = None) :\n",
    "        out_map.data = spim.isig[self.left:self.right].sum(axis = -1).data\n",
    "        return out_map"
   ]
  },
  {
   "cell_type": "markdown",
   "id": "ff132626-f429-408f-8311-79324a34a4e4",
   "metadata": {},
   "source": [
    "## Profiles of spectral features\n",
    "\n",
    "Two windows will pop out :\n",
    "- One window reprensenting the sum of spectra of the line spectrum and a green interactive slider on top of it.\n",
    "- Another window representing interactively the sum over the slice selected in the first window. "
   ]
  },
  {
   "cell_type": "code",
   "execution_count": null,
   "id": "ca09842a-0978-43d3-a58d-9602c13627b0",
   "metadata": {},
   "outputs": [],
   "source": [
    "# Get safe initial coordinates for the ROI.\n",
    "half_e = lisp.axes_manager[-1].offset + lisp.axes_manager[-1].scale*0.5*lisp.axes_manager[-1].size\n",
    "third_e = lisp.axes_manager[-1].offset + lisp.axes_manager[-1].scale*0.333*lisp.axes_manager[-1].size\n",
    "\n",
    "# Sum over all the spectra of the spim\n",
    "full_spectrum = lisp.sum(axis = 0 )\n",
    "# Initialize the ROI\n",
    "spectrum_ROI = cst_SpanROI(third_e,half_e)\n",
    "\n",
    "# Plot both the spectrum and the ROI (interactively)\n",
    "full_spectrum.plot()\n",
    "spectrum_ROI.interactive(full_spectrum)\n",
    "\n",
    "# Initialize a Signal2D which will represent the map\n",
    "out = hs.signals.Signal1D(np.zeros((lisp.axes_manager[0].size,)))\n",
    "# Link the spim, the map and the SpanROI interactively\n",
    "map=hs.interactive(spectrum_ROI.mapping,recompute_out_event = spectrum_ROI.events.changed,spim = lisp,out_map = out)\n",
    "map.plot()"
   ]
  },
  {
   "cell_type": "markdown",
   "id": "3a0487e5-67ff-4c59-b725-fee820db00a2",
   "metadata": {},
   "source": [
    "## Save your results\n",
    "\n",
    "Please, do not hesitate to save your results."
   ]
  },
  {
   "cell_type": "code",
   "execution_count": null,
   "id": "39f2e3bb-6436-4e13-b856-7d0c924480e5",
   "metadata": {},
   "outputs": [],
   "source": [
    "map.save(\"filename.hspy\")"
   ]
  },
  {
   "cell_type": "markdown",
   "id": "f266e414-3d6b-4a8f-8599-d864e76c1b8f",
   "metadata": {},
   "source": [
    "# 🏠 Converting `.hspy` data to Digital Micrograph (DM) readable format\n",
    "\n",
    "You first need to install this plugin in DM : http://hyperspy.org/hyperspy-doc/current/user_guide/io.html#importrpl-digital-micrograph-plugin\n",
    "\n",
    "Then you just need to save your data in `.rpl` format using hyperspy. It will produce `.rpl` and `.raw` files. Using the DM plugin you'll be able to open the `.rpl` file and read your data in DM."
   ]
  },
  {
   "cell_type": "code",
   "execution_count": null,
   "id": "1b0cbb93-e5d3-4542-b41c-45858cd5f3ac",
   "metadata": {},
   "outputs": [],
   "source": [
    "lisp.save(\"lisp.rpl\")"
   ]
  },
  {
   "cell_type": "markdown",
   "id": "b7096850-0ec2-4153-b0c3-6699744d7c25",
   "metadata": {
    "toc-hr-collapsed": true
   },
   "source": [
    "# 1D Spectrum fitting\n",
    "\n",
    "<a id='spectrum_fitting'></a>\n",
    "\n",
    "Here the fitting is performed on the sum of spectra over the whole spectrum image. When the metadata are set correctly (it can be done using `lisp.set_microscope_parameters()` or `lisp.add_elements()`) the relevant components for an EELS fit are set automatically.\n",
    "\n",
    "In this case we apply the fitting on the sum of spectra."
   ]
  },
  {
   "cell_type": "markdown",
   "id": "8f21031c-9d42-4dbd-bfe8-753fbbe4ac81",
   "metadata": {},
   "source": [
    "## Cross-sections \n",
    "\n",
    "For core-loss, there are two types of cross-section models : `\"hydrogenic\"` or `\"Hartree-Slater\"`. It is set using the keyword argument : `GOS =`.\n",
    "- **Hydrogenic**: This a simple atomic model with hydrogenic wave functions where the screening of the electrons is taken into account with a constant. This model is suitable for K edges of light elements and can be adapted empirically for L edges.\n",
    "- **Hartree-Slater**: This model is more accurate and uses an Hartree-Slater central field model. The elements are considered in their atomic form. Thus, the solid state effects are not taken into account. \n",
    "- For more details check: Hofer1991_cs_cl_eels.pdf\n",
    "\n",
    "### Multiple scattering\n",
    "\n",
    "If you have access to a low-loss spectrum, you can use to account for multiple scattering with the keyword argument : `ll = `. This feature may not work well in some cases. **Keep it disabled for a first try**.\n",
    "\n",
    "Uncomment the corresponding code if you want to try this feature."
   ]
  },
  {
   "cell_type": "markdown",
   "id": "af6cbd74-8ce1-4b40-a394-b399b340c961",
   "metadata": {},
   "source": [
    "## Fitting options\n",
    "\n",
    "**Comment and uncomment the different lines dis\n",
    "\n",
    "- In most cases, it is important to enable the fine structure of core-loss edges for more accurate fitting. This is done using: `model.enable_fine_structure()`\n",
    "\n",
    "- In some cases, the valence of elements can change compared to the tabulated one. It will change the energy of the edge onset (this shift is usually called a chemical shift). You can use the function `model.enable_free_onset_energy()` to also fit the energy onset value. This feature can greatly help you if your energy scale is not fully accurate.\n",
    "\n",
    "- If you removed the background beforehand you should disable the background component with `model.disable_background()`"
   ]
  },
  {
   "cell_type": "markdown",
   "id": "3f6a7d22-5410-41a5-b486-d66c2c3c3a6d",
   "metadata": {},
   "source": [
    "### Cells description\n",
    "\n",
    "- In the first cell, we initialize the model.\n",
    "\n",
    "- In the second cell, a window will pop up with in red the data and in blue the model (a flat line at the beginning). You can then tune the initial parameters of the gaussian using the interface below the second. It is all interactive."
   ]
  },
  {
   "cell_type": "code",
   "execution_count": null,
   "id": "1fa69596-4aba-4eb0-81c0-852542ab2686",
   "metadata": {},
   "outputs": [],
   "source": [
    "# For a 1D we need to sum over the navigation axis\n",
    "spectrum = lisp.sum(axis = 0)\n",
    "# ll_spectrum = ll.sum(axis = 0)\n",
    "\n",
    "# We create the model\n",
    "model = spectrum.create_model(GOS = \"hydrogenic\")#, ll = ll_spectrum)\n",
    "\n",
    "model.enable_fine_structure()\n",
    "model.enable_free_onset_energy()\n",
    "# model.disable_background()\n",
    "\n",
    "# Check what is in the model\n",
    "print(model.components)"
   ]
  },
  {
   "cell_type": "code",
   "execution_count": null,
   "id": "8eb79c91-6e68-4490-9bec-3a07d8c78816",
   "metadata": {},
   "outputs": [],
   "source": [
    "model.enable_adjust_position()\n",
    "model.gui()"
   ]
  },
  {
   "cell_type": "markdown",
   "id": "12797e31-bb9e-4f63-8d7c-71102f40fb55",
   "metadata": {},
   "source": [
    "## Fitting\n",
    "\n",
    "To fit core-loss spectra it is better to use the function `model.smart_fit()` which is optimized for that task. If don't want to use the function `smart_fit` you can use: `model.fit()`"
   ]
  },
  {
   "cell_type": "code",
   "execution_count": null,
   "id": "05cb5285-1ee1-4298-833d-0cb55a3ffed9",
   "metadata": {
    "tags": []
   },
   "outputs": [],
   "source": [
    "model.smart_fit()"
   ]
  },
  {
   "cell_type": "markdown",
   "id": "872d6f85-2435-482f-8cb1-99feacd3f546",
   "metadata": {},
   "source": [
    "## Display the results"
   ]
  },
  {
   "cell_type": "markdown",
   "id": "31f53fcb-8c78-45e7-a4b8-f2272b4050d2",
   "metadata": {},
   "source": [
    "### Plot\n",
    "\n",
    "This function shows the global result of the fitting procedure. Thus, it is a first check of the validity of the fit. "
   ]
  },
  {
   "cell_type": "code",
   "execution_count": null,
   "id": "bb4d5153-8b61-4f33-b5bd-9f529989aa8e",
   "metadata": {},
   "outputs": [],
   "source": [
    "model.plot(plot_components=True,plot_edges = True)"
   ]
  },
  {
   "cell_type": "markdown",
   "id": "b45c9d00-24c4-4951-9936-3cb882e7355c",
   "metadata": {},
   "source": [
    "### Quantify\n",
    "\n",
    "The quantify function will print out a small summary of the intensity of the different edges. <a id='quantify'></a>"
   ]
  },
  {
   "cell_type": "code",
   "execution_count": null,
   "id": "7277af4c-44e2-4efd-ac88-ecd1fdd29168",
   "metadata": {},
   "outputs": [],
   "source": [
    "model.quantify()"
   ]
  },
  {
   "cell_type": "markdown",
   "id": "4c4466e8-48f7-4ab1-b0f7-f033e722bc7e",
   "metadata": {},
   "source": [
    "### Model parameters\n",
    "\n",
    "A more detailed summary of the parameters obtained using fitting. The output can be quite long."
   ]
  },
  {
   "cell_type": "code",
   "execution_count": null,
   "id": "5966255d-9e3a-453c-a2bb-7fa5cc46cde8",
   "metadata": {
    "tags": []
   },
   "outputs": [],
   "source": [
    "model.print_current_values()"
   ]
  },
  {
   "cell_type": "markdown",
   "id": "8a072e47-04ee-4f90-a50d-cdb21f2cba78",
   "metadata": {},
   "source": [
    "# Fitting using reference spectra\n",
    "\n",
    "With these few cells, you can use 2 reference spectra to fit your spectrum images and thus make more accurate quantifications of your data. **The reference spectra have to share the same energy scale as the data.**"
   ]
  },
  {
   "cell_type": "markdown",
   "id": "b96194e9-539e-4b62-a406-a1f71d9258dd",
   "metadata": {},
   "source": [
    "## Create a custom component. \n",
    "\n",
    "**You need to copy and execute that cell for this pratical. Even though you're welcome to ask, you don't need to understand what it does and how it works. 🏠** \n",
    "\n",
    "Hyperspy supports the creation of custom components. This is a powerful tool to design your own data analysis.\n",
    "\n",
    "For this component, the first two arguments `ref_1` and `ref_2` are the reference spectra (as numpy arrays). They will not change during the fitting procedure. The last arguments `a_ref_1` and `a_ref_2` are the learned weights of `ref_1` and `ref_2`, respectively.   "
   ]
  },
  {
   "cell_type": "code",
   "execution_count": null,
   "id": "1729e1e7-05d8-4335-ba3b-3b9c836f385e",
   "metadata": {},
   "outputs": [],
   "source": [
    "from hyperspy.component import Component\n",
    "\n",
    "class ReferenceFitting(Component):\n",
    "    def __init__(self, ref_1 = None, ref_2 = None, a_ref_1=1, a_ref_2=2):\n",
    "        # Define the parameters\n",
    "        # Note that the reference spectra are not parameters\n",
    "        Component.__init__(self, ('a_ref_1', 'a_ref_2'))\n",
    "        \n",
    "        self.a_ref_1.value = a_ref_1\n",
    "        self.a_ref_2.value = a_ref_2\n",
    "\n",
    "        self.a_ref_1.bmin = 0.\n",
    "        self.a_ref_1.bmax = None\n",
    "        \n",
    "        self.a_ref_2.bmin = 0.\n",
    "        self.a_ref_2.bmax = None\n",
    "        \n",
    "        self.a_ref_1.grad = self.a_ref_1\n",
    "        self.a_ref_2.grad = self.a_ref_2\n",
    "        \n",
    "        assert ref_1 is not None, \"You need to define a first reference spectrum.\"\n",
    "        assert ref_2 is not None, \"You need to define a second reference spectrum.\"\n",
    "        \n",
    "        self.ref_1 = ref_1\n",
    "        self.ref_2 = ref_2\n",
    "\n",
    "    # Define the function as a function of the already defined parameters,\n",
    "    # x being the independent variable value (e.g. energy scale)\n",
    "    # In this particular case, there is no independant variable\n",
    "    def function(self, x):\n",
    "        a1 = self.a_ref_1.value\n",
    "        a2 = self.a_ref_2.value\n",
    "        return a1*self.ref_1 + a2*self.ref_2\n",
    "    \n",
    "    # Optionally, for faster execution, you can define the gradients of each parameter\n",
    "    def grad_a_ref_1(self, x):\n",
    "        \"\"\"\n",
    "        Returns d(function)/d(a_ref_1)\n",
    "        \"\"\"\n",
    "        return self.ref_1\n",
    "\n",
    "    def grad_a_ref_2(self, x):\n",
    "        \"\"\"\n",
    "        Returns d(function)/d(a_ref_2)\n",
    "        \"\"\"\n",
    "        return self.ref_2"
   ]
  },
  {
   "cell_type": "markdown",
   "id": "792de966-381c-4ccb-bab7-90f14e983992",
   "metadata": {},
   "source": [
    "## Loading the data and initializing model\n",
    "\n",
    "The lisp was cut out to reduce the computation time. The `.data` attribute of the reference spectra are called to get their 1D numpy array. \n",
    "\n",
    "The fitting of the edges are disabled so that there is no conflict with the reference spectra. \n",
    "\n",
    "The `ReferenceFitting` component is added to the list of components of the model.\n",
    "\n",
    "### References \n",
    "\n",
    "CrO : SP McBride, R Brydson, Journal of Materials Science, Volume 39, page 6723-6734 (2004)\n",
    "\n",
    "Fe : A. Hähnel, J. Woltersdorf, Journal of Solid State Chemistry 182, 2961-2971 (2009)\n",
    "\n",
    "EELS database : Philip Ewels, Thierry Sikora, Virginie Serin, Chris P. Ewels and Luc Lajaunie.\n",
    "\"A Complete Overhaul of the Electron Energy-Loss Spectroscopy and X-Ray Absorption Spectroscopy Database: eelsdb.eu.\"\n",
    "Microscopy and Microanalysis"
   ]
  },
  {
   "cell_type": "code",
   "execution_count": null,
   "id": "9b2f7be1-bf4e-470a-8939-2d8de8247715",
   "metadata": {},
   "outputs": [],
   "source": [
    "ref1 = hs.load(\"Fe_ref.hspy\")\n",
    "ref2 = hs.load(\"CrO_ref.hspy\")\n",
    "\n",
    "comp = ReferenceFitting(ref1.data,ref2.data,1,1)\n",
    "model = lisp.create_model()\n",
    "\n",
    "model.disable_edges()\n",
    "model.extend([comp])"
   ]
  },
  {
   "cell_type": "markdown",
   "id": "daddb8ae-80c6-408d-a3a8-7e14c4189d95",
   "metadata": {},
   "source": [
    "## Fitting\n",
    "\n",
    "The `model.multifit` function applies the fitting procedure, for each element of the navigation axis.  "
   ]
  },
  {
   "cell_type": "code",
   "execution_count": null,
   "id": "ea04dea0-1992-4fc3-b62d-cc4b95ddffcf",
   "metadata": {},
   "outputs": [],
   "source": [
    "model.multifit()"
   ]
  },
  {
   "cell_type": "markdown",
   "id": "3130bdec-8392-4733-b66e-bbdbde6ef691",
   "metadata": {},
   "source": [
    "## Plotting the results\n",
    "\n",
    "- First cell : For 2D (and 3D) data, the function `model.plot` shows the sum of both the model and the spectra. It's also a good validity check. \n",
    "\n",
    "- Second cell : The `model.plot_results` is a more powerful function that shows the spatial distribution (here profiles) of the different fitting parameters. "
   ]
  },
  {
   "cell_type": "code",
   "execution_count": null,
   "id": "b3cf8499-d97d-4c90-9f5b-f5e5cdc613ee",
   "metadata": {},
   "outputs": [],
   "source": [
    "model.plot()"
   ]
  },
  {
   "cell_type": "code",
   "execution_count": null,
   "id": "3dbb5099-d2ff-44f7-ba5c-f9262a0106ec",
   "metadata": {},
   "outputs": [],
   "source": [
    "model.plot_results()"
   ]
  }
 ],
 "metadata": {
  "kernelspec": {
   "display_name": "qem",
   "language": "python",
   "name": "qem"
  },
  "language_info": {
   "codemirror_mode": {
    "name": "ipython",
    "version": 3
   },
   "file_extension": ".py",
   "mimetype": "text/x-python",
   "name": "python",
   "nbconvert_exporter": "python",
   "pygments_lexer": "ipython3",
   "version": "3.8.13"
  },
  "varInspector": {
   "cols": {
    "lenName": 16,
    "lenType": 16,
    "lenVar": 40
   },
   "kernels_config": {
    "python": {
     "delete_cmd_postfix": "",
     "delete_cmd_prefix": "del ",
     "library": "var_list.py",
     "varRefreshCmd": "print(var_dic_list())"
    },
    "r": {
     "delete_cmd_postfix": ") ",
     "delete_cmd_prefix": "rm(",
     "library": "var_list.r",
     "varRefreshCmd": "cat(var_dic_list()) "
    }
   },
   "types_to_exclude": [
    "module",
    "function",
    "builtin_function_or_method",
    "instance",
    "_Feature"
   ],
   "window_display": false
  }
 },
 "nbformat": 4,
 "nbformat_minor": 5
}
