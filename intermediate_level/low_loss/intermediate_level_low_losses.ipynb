{
 "cells": [
  {
   "cell_type": "markdown",
   "id": "008a6074",
   "metadata": {
    "tags": [],
    "toc-hr-collapsed": true
   },
   "source": [
    "# How to read this document\n",
    "\n",
    "This document is designed to showcase the different basic functionality of Hyperspy. For this practical you're intended to build your own notebook with the help of this document. \n",
    "\n",
    "We've given you a spectrum image (spim) called \"spim_low_loss.hspy\" and its associated ADF image : \"ADF_low_loss.hspy\". In this practical you are supposed to explore the data and understand what they represent. To guide you, here are a few questions :\n",
    "\n",
    "- What is the scale of the observed object ? In what energy range, the EELS was measured ?\n",
    "- What are the required pre-processing steps before starting a deeper analysis of the spim ?\n",
    "- Can you tell whether the spectra change spatially ? If yes, how ?\n",
    "- What is the energy of these different spectral features ?\n",
    "\n",
    "To succeed at this practical, answer those questions in a separate ipython notebook. If you want to go further, you are welcome to move to the next level.\n",
    "\n",
    "**The jupyter notebook extensions are installed. Thus, you can navigate between sections using the left panel**\n",
    "\n",
    "Not everything is intended to be read the from the first time. Optional comments along the document are marked by emojis: \n",
    "- ⭐ This is a tip, describing more in depth the inner workings of hyperspy.\n",
    "- 🏠 It's an optional comment. Something that you may not use here but that you can use back to your lab.\n",
    "\n",
    "The data were kindly provided by: **Hugo Lourenço-Martins**."
   ]
  },
  {
   "cell_type": "markdown",
   "id": "82d8d218",
   "metadata": {
    "jp-MarkdownHeadingCollapsed": true,
    "tags": [],
    "toc-hr-collapsed": true
   },
   "source": [
    "# Introduction to Hyperspy\n",
    "\n",
    "Hyperspy is a tool for the visualisation and manipulation of high-dimensional data. The main features of Hyperspy are the following:\n",
    "- The Signal1D and Signal2D objects\n",
    "- Domain-specific features for EELS, EDX, etc ...\n",
    "- Model fitting\n",
    "- Machine learning\n",
    "\n",
    "This document will guide through the following steps : \n",
    "- Manipulation and visualisation of data using the Signal objects. \n",
    "- Various Data preprocessing such as energy alignement or deconvolution.\n",
    "- How to map the different features of the spim.\n",
    "- How to perform a 1D fit.\n",
    "\n",
    "A large part of this practical is inspired from the hyperspy documentation : http://hyperspy.org/hyperspy-doc/current/index.html"
   ]
  },
  {
   "cell_type": "markdown",
   "id": "d302b430",
   "metadata": {
    "toc-hr-collapsed": true
   },
   "source": [
    "# 🏠 Installing Hyperspy with anaconda\n",
    "\n",
    "This section is intended to help you to install hyperspy on your own computer in your own lab. **You can skip this part for the practical.**\n",
    "\n",
    "Anaconda is python package manager dedicated to science. Using Anaconda it is possible to create virtual environments. You can then manage different virtual environments to isolate different distributions of python packages. This way you can keep stable python distributions safe from unstable ones.\n",
    "\n",
    "We describe here the few steps required to create an environment with Hyperspy.\n",
    "\n",
    "### 🏠 Install Anaconda\n",
    "\n",
    "Depending on your operating system install anaconda : https://www.anaconda.com/products/individual\n",
    "\n",
    "Then, launch the Anaconda Prompt, a console should appear.\n",
    "\n",
    "### 🏠 Create a virtual environment\n",
    "\n",
    "Run the command : ```conda create --name myenv``` (change \"myenv\" by any name you like.)\n",
    "\n",
    "Your virtual environment is created but you're still in the default one called \"base\". You need to activate it by typing: ```conda activate myenv```\n",
    "\n",
    "### 🏠 Installing packages\n",
    "\n",
    "When installing a package there are two solutions: \n",
    "1. Either it is part of the already available libraries \n",
    "2. Either you can access it from anaconda forge\n",
    "\n",
    "(1). Run the command : ```conda install package-name``` with for example: ```conda install scikit-learn```\n",
    "\n",
    "(2). The available python packages are listed on : https://anaconda.org/ . After searching for the library you want, you can click on its name in bold. There will be a list of commands to type and execute to install the selected package. For Hyperspy it is: ```conda install -c conda-forge hyperspy```\n",
    "\n",
    "### 🏠 installing ipython\n",
    "\n",
    "The next few steps will enable you to run the virtual environment you created in ipython notebooks. In the Anaconda prompt run the following commands :\n",
    "- ```conda install jupyter```\n",
    "- ```conda install ipykernels```\n",
    "- ```python -m ipykernel install --user --name myenv```\n",
    "\n",
    "Now you can start the ipython notebook environment using: ```jupyter notebook```. You will be able to create ipython notebooks (top right corner) with the virtual environments you want. All the packages installed (and their versions) will be specific to that environment. \n",
    "\n",
    "You can also check https://github.com/adriente/practical_EELS_QEM to get this practical."
   ]
  },
  {
   "cell_type": "markdown",
   "id": "bf45048f",
   "metadata": {
    "tags": []
   },
   "source": [
    "# Import Hyperspy\n",
    "\n",
    "⭐ We choose first a graphical backend that manage interactivity (```%matplotlib qt```).\n",
    "\n",
    "In python the libraries have to be imported to use their functions. For clarity, hyperspy will be imported with the name \"hs\". "
   ]
  },
  {
   "cell_type": "code",
   "execution_count": 1,
   "id": "db4292b0",
   "metadata": {},
   "outputs": [],
   "source": [
    "%matplotlib qt\n",
    "import hyperspy.api as hs"
   ]
  },
  {
   "cell_type": "markdown",
   "id": "0df062d6",
   "metadata": {},
   "source": [
    "# Loading data\n",
    "\n",
    "Hyperspy is able to load and manage data from many different open-source and proprietary formats, such as: \n",
    "- dm3, dm4\n",
    "- emd, bcf\n",
    "- tiff, jpg, etc...\n",
    "\n",
    "For an exhaustive list : http://hyperspy.org/hyperspy-doc/current/user_guide/io.html#supported-formats\n",
    "\n",
    "⭐ Without arguments ```hs.load()```  makes a file explorer window pop up. You can also load a list of files."
   ]
  },
  {
   "cell_type": "code",
   "execution_count": 2,
   "id": "3c279919-0b52-42fa-ad57-1c96ffadeb5e",
   "metadata": {},
   "outputs": [],
   "source": [
    "spim = hs.load(\"spim_low_loss.hspy\")\n",
    "adf = hs.load(\"ADF_low_loss.hspy\")"
   ]
  },
  {
   "cell_type": "code",
   "execution_count": 3,
   "id": "c791ea5f-9509-4a04-9e84-bc6c68721792",
   "metadata": {},
   "outputs": [],
   "source": [
    "spim.save(\"spim_low_loss.rpl\")\n",
    "adf.save(\"ADF_low_loss.rpl\")"
   ]
  },
  {
   "cell_type": "code",
   "execution_count": null,
   "id": "88501686-646c-4a41-8b4f-047012cdafe6",
   "metadata": {},
   "outputs": [],
   "source": [
    "spim.plot()"
   ]
  },
  {
   "cell_type": "markdown",
   "id": "63a5989f",
   "metadata": {
    "toc-hr-collapsed": true
   },
   "source": [
    "# Data structure and visualisation\n",
    "\n",
    "The loaded data have a signal type, such as : `EELSSpectrum`, `EDSTEMSpectrum` or `EDSSEMSpectrum`.\n",
    "\n",
    "Optionnally the data can have a title. \n",
    "\n",
    "The main feature of hyperspy signals is the dimension. The dimensions are either navigation or signal. For a spectrum image there are two navigation dimensions X and Y and one signal dimension Z. It is noted : `(X,Y|Z)`\n",
    "\n",
    "⭐ If you want to developp a new application, hyperspy can support its implementation as a new signal type."
   ]
  },
  {
   "cell_type": "code",
   "execution_count": null,
   "id": "eae3be48",
   "metadata": {},
   "outputs": [],
   "source": [
    "print(spim)"
   ]
  },
  {
   "cell_type": "markdown",
   "id": "6840ddff",
   "metadata": {},
   "source": [
    "## I. Metadata\n",
    "\n",
    "The Signal object has a metadata attribute. Some of it is used for signal specific function (e.g. beam energy). In this tutorial all the relevant metatadata is already filled in.\n",
    "\n",
    "🏠 You can add new metadata categories this way : `spim.metadata.Category1 = {}` and new metadata entries this way : `spim.metadata.Category1.entry1 = 'entry1 value'`\n",
    "\n",
    "⭐For some of the proprietary file formats, some of the metadata are automatically read and loaded by hyperspy. Be careful, what is loaded and what is not.\n",
    "\n",
    "⭐If you want to build metadata by yourself, there are some helper function such as : `spim.set_microscope_parameters()` or `spim.add_elements()`"
   ]
  },
  {
   "cell_type": "code",
   "execution_count": null,
   "id": "355be1f5",
   "metadata": {},
   "outputs": [],
   "source": [
    "print(spim.metadata)"
   ]
  },
  {
   "cell_type": "markdown",
   "id": "07fa9521-0810-49a3-af85-10bbdf31d812",
   "metadata": {},
   "source": [
    "## I. Axes manager\n",
    "\n",
    "The signal object has an axes_manager attribute to manage the calibrations of both the navigation axes and the signal axis. The Graphical User Interface (GUI) enables you to edit the values. \n",
    "\n",
    "⭐ Just typing `spim.axes_manager` prints it. You can then acces the values using e.g. : `spim.axes_manager[0].scale` or `spim.axes_manager[axis_name].size`"
   ]
  },
  {
   "cell_type": "code",
   "execution_count": null,
   "id": "2ffec502",
   "metadata": {},
   "outputs": [],
   "source": [
    "spim.axes_manager.gui()"
   ]
  },
  {
   "cell_type": "markdown",
   "id": "cc0ce498-a7f4-448d-99f1-d34bef1e7fa6",
   "metadata": {},
   "source": [
    "## I. Plotting\n",
    "\n",
    "For 3 dimensional data, the plotting makes 2 windows pop-up. The first window contains an image in which the intensity of each pixel is the sum of the intensities of the corresponding spectrum (sum over the signal axis). A single pixel Region Of Interest is displayed in the top left of the image. The second window represents the spectrum associated to the ROI. \n",
    "\n",
    "You can move this ROI using arrow keys.\n",
    "\n",
    "The adf is also plotted as an extra window."
   ]
  },
  {
   "cell_type": "code",
   "execution_count": null,
   "id": "d0d97119-d087-4968-8d68-8649d88f2cd2",
   "metadata": {},
   "outputs": [],
   "source": [
    "spim.plot()\n",
    "adf.plot()"
   ]
  },
  {
   "cell_type": "markdown",
   "id": "07d9d761-21e0-469a-b059-043c7f8945be",
   "metadata": {},
   "source": [
    "### I. Advanced Plotting\n",
    "\n",
    "The code below is a way to improve the basic visualisation of hyperspy. In addition to the single pixel ROI (which cannot be removed), there is an ajustable ROI. A thrid window is also added and displays the sum of spectra in the adjustable ROI. 🏠"
   ]
  },
  {
   "cell_type": "code",
   "execution_count": null,
   "id": "6fb664cc-0175-4d0b-9942-22d2d7821b39",
   "metadata": {},
   "outputs": [],
   "source": [
    "# Get safe coordinates to initialize the ROI\n",
    "half_h = spim.axes_manager[0].offset + spim.axes_manager[0].scale*0.5*spim.axes_manager[0].size \n",
    "half_v = spim.axes_manager[1].offset + spim.axes_manager[1].scale*0.5*spim.axes_manager[1].size\n",
    "third_h = spim.axes_manager[0].offset + spim.axes_manager[0].scale*0.333*spim.axes_manager[0].size \n",
    "third_v = spim.axes_manager[1].offset + spim.axes_manager[1].scale*0.333*spim.axes_manager[1].size \n",
    "\n",
    "# Create the ROI\n",
    "img_ROI=hs.roi.RectangularROI(third_h,\n",
    "                              third_v,\n",
    "                              half_h,\n",
    "                              half_v)\n",
    "\n",
    "# Plot the spim as usual\n",
    "spim.plot()\n",
    "# Link, interactively, the ROI to the spim\n",
    "spim_ROI=img_ROI.interactive(spim)\n",
    "\n",
    "# Compute interactively the sum over the ROI\n",
    "spectrum=hs.interactive(spim_ROI.sum,\n",
    "           event=spim_ROI.axes_manager.events.any_axis_changed)\n",
    "# Plot the computed sum\n",
    "spectrum.plot(True)"
   ]
  },
  {
   "cell_type": "markdown",
   "id": "492be86f-b0fb-476c-84ae-67bcdde2c417",
   "metadata": {
    "tags": []
   },
   "source": [
    "# Data Preprocessing"
   ]
  },
  {
   "cell_type": "markdown",
   "id": "8b2581c7-4564-4e27-8850-bc9cae74acdd",
   "metadata": {},
   "source": [
    "## Cropping\n",
    "\n",
    "The crop function can be used to cut out parts of the data. **Be careful : it overwrites the data.** The syntax is as follows : `spim.crop(axis,start,stop)`. Note that axis is either an integer or an axis name. \n",
    "\n",
    "For `start` and `stop`, the options are :\n",
    "- Integer indices : They do not take into account the calibration and correspond to matrix indices.\n",
    "- Float indices : They take into account the calibration.\n",
    "\n",
    "⭐Using `.inav` for navigation axes or `.isig` for signal axes is a more powerful way to slice data. It supports integer indexing, float indices and even string indices with e.g. `spim.inav[\"10 nm\",\"20 nm\"]`. It also supports advanced slicing such as `spim.isig[::2]` or `spim.inav[::,-1]`.\n",
    "\n"
   ]
  },
  {
   "cell_type": "code",
   "execution_count": null,
   "id": "52a4528d-f568-4c49-ae80-dc4528448218",
   "metadata": {},
   "outputs": [],
   "source": [
    "spim.crop(0,10.0,20.0)"
   ]
  },
  {
   "cell_type": "markdown",
   "id": "b146f9f7-b34e-48f5-ac6b-8ed7c49984b4",
   "metadata": {},
   "source": [
    "## Energy alignement\n",
    "\n",
    "In low-loss, we have usually access to the zero-loss peak (zlp). It conviniently gives an accurate 0 to the energy scale (up to some precision, which depends on the instrument). Therefore, all the spectra can be aligned in energy so that the zlp is at 0 eV.\n",
    "\n",
    "**Be careful : It overwrites the spim object.** "
   ]
  },
  {
   "cell_type": "code",
   "execution_count": null,
   "id": "95350da0-c671-485e-b739-fef182d342e4",
   "metadata": {},
   "outputs": [],
   "source": [
    "spim.align_zero_loss_peak()"
   ]
  },
  {
   "cell_type": "markdown",
   "id": "b83eb958-7df6-422c-8525-7731735b8ad3",
   "metadata": {},
   "source": [
    "## Deconvolution\n",
    "\n",
    "The electrons can undergo several inelastic scattering events during their travel inside of the sample. However we want to access the single scattering distribution which directly correspond to a physically meaningfull spectrum (as direct measure of transitions probabilty). The single scattering distribution is given by : \n",
    "\n",
    "$$ S_{1}(E) = I_{0} t \\theta(E) * \\sigma(E) $$\n",
    "\n",
    "Where $I_{0}$ is the incoming beam intensity, $t$ is the thickness of the sample, $\\theta(E)$ is the zero loss peak and $\\sigma(E)$ is inelastic scattering spectrum. The zero loss peak is already convolved to the spectrum. Even in the case of single scattering, the deconvolution can improve the energy resolution [Gloter et al. (2003)](https://doi.org/10.1016/S0304-3991(03)00103-7). When the sample is too thick, the spectrum is dominated by the multiple scattering distribution and $\\sigma(E)$ can not be straightforwardly obtained.\n",
    "\n",
    "For example, the double scattering distribution is given by : \n",
    "\n",
    "$$ S_{2}(E) = I_{0} \\frac{t^{2}}{2} \\theta(E) * \\sigma(E) * \\sigma(E) $$\n",
    "\n",
    "In that case, it is important to perform the deconvolution with the full low loss spectrum"
   ]
  },
  {
   "cell_type": "markdown",
   "id": "84591d9a-0772-4039-9acb-99eb25d56dfa",
   "metadata": {},
   "source": [
    "### Get the low losses of the substrate\n",
    "\n",
    "Here we get an arbitrary amount of the most isolated pixels from the plasmonic structure. Therfore we will deconvolute the spectrum image with the low loss signature of the substrate. We will get the pure spectrum of the plasmonic structure."
   ]
  },
  {
   "cell_type": "code",
   "execution_count": null,
   "id": "36efddca-6d10-4343-b529-f1b74b229c86",
   "metadata": {},
   "outputs": [],
   "source": [
    "ll = spim.inav[:3,:3].sum(axis = (0,1))"
   ]
  },
  {
   "cell_type": "markdown",
   "id": "e4a18a3a-8407-4c13-861a-b2c94cc16f9a",
   "metadata": {},
   "source": [
    "### Richardson Lucy deconvolution\n",
    "\n",
    "-First cell : The Richardson Lucy deconvolution is usually the prefered deconvolution method in EELS [Gloter et al. (2003)](https://doi.org/10.1016/S0304-3991(03)00103-7). It takes a low loss spectrum to deconvolute the spectrum with. The number of iterations is a key parameter here, depending on your dataset you should increase it or decrease it.\n",
    "\n",
    "- Second cell : Accept the deconvolution result.\n",
    "\n",
    "⭐ Unlike many hyperspy functions, the deconvolution does not overwrite the initial object."
   ]
  },
  {
   "cell_type": "code",
   "execution_count": null,
   "id": "9229da9d-6b2a-4c21-a2c0-b0b4016a6608",
   "metadata": {},
   "outputs": [],
   "source": [
    "deconvoluted = spim.richardson_lucy_deconvolution(ll,iterations = 20)"
   ]
  },
  {
   "cell_type": "code",
   "execution_count": null,
   "id": "9b7dfb6d-0b6e-4507-a267-a244ddc80d18",
   "metadata": {},
   "outputs": [],
   "source": [
    "spim = deconvoluted.copy()"
   ]
  },
  {
   "cell_type": "markdown",
   "id": "fd721936-5fae-40d0-bb88-f57011e39097",
   "metadata": {},
   "source": [
    "# Integrating peaks and generating maps"
   ]
  },
  {
   "cell_type": "markdown",
   "id": "df9b2d7a-4b7e-4e66-88b5-71ebad1f1d53",
   "metadata": {},
   "source": [
    "## Span ROI\n",
    "\n",
    "**Execute this cell before the next one.** \n",
    "\n",
    "🏠 You don't need to understand what happens in that cell for this practical. It aims at subclassing the SpanROI of hyperspy to add a new functionality. You're welcome to use both cells below in your lab."
   ]
  },
  {
   "cell_type": "code",
   "execution_count": null,
   "id": "25bdd15e-ac4b-406c-87a7-ae1fa290acde",
   "metadata": {},
   "outputs": [],
   "source": [
    "import numpy as np\n",
    "\n",
    "class cst_SpanROI (hs.roi.SpanROI) : \n",
    "    def mapping (self,spim = None, out_map = None) :\n",
    "        out_map.data = spim.isig[self.left:self.right].sum(axis = 2).data\n",
    "        return out_map"
   ]
  },
  {
   "cell_type": "markdown",
   "id": "d2a08dfd-20ff-4ebf-b41d-0bc92b9fae83",
   "metadata": {},
   "source": [
    "## Mapping spectral features\n",
    "\n",
    "Two windows will pop out :\n",
    "- One window reprensenting the sum of spectra of the spectrum image and a green interactive slider on top of it.\n",
    "- Another window representing interactively the sum over the slice selected in the first window. "
   ]
  },
  {
   "cell_type": "code",
   "execution_count": null,
   "id": "dbf85117-dab3-4624-9a1b-8a67c0c7396c",
   "metadata": {
    "tags": []
   },
   "outputs": [],
   "source": [
    "# Get safe initial coordinates for the ROI.\n",
    "half_e = spim.axes_manager[2].offset + spim.axes_manager[2].scale*0.5*spim.axes_manager[2].size\n",
    "third_e = spim.axes_manager[2].offset + spim.axes_manager[2].scale*0.333*spim.axes_manager[2].size\n",
    "\n",
    "# Sum over all the spectra of the spim\n",
    "full_spectrum = spim.integrate1D(axis = (0,1))\n",
    "# Initialize the ROI\n",
    "spectrum_ROI = cst_SpanROI(third_e,half_e)\n",
    "\n",
    "# Plot both the spectrum and the ROI (interactively)\n",
    "full_spectrum.plot(True)\n",
    "spectrum_ROI.interactive(full_spectrum)\n",
    "\n",
    "# Initialize a Signal2D which will represent the map\n",
    "out = hs.signals.Signal2D(np.zeros((spim.axes_manager[0].size,spim.axes_manager[1].size)))\n",
    "# Link the spim, the map and the SpanROI interactively\n",
    "map=hs.interactive(spectrum_ROI.mapping,recompute_out_event = spectrum_ROI.events.changed,spim = spim,out_map = out)\n",
    "map.plot()"
   ]
  },
  {
   "cell_type": "markdown",
   "id": "19807d80-4070-41ed-8ac3-c5be63ecd37d",
   "metadata": {},
   "source": [
    "## Save your results\n",
    "\n",
    "Please, do not hesitate to change the filename."
   ]
  },
  {
   "cell_type": "code",
   "execution_count": null,
   "id": "95651ecb-2987-438a-86b0-ded08a51bfae",
   "metadata": {},
   "outputs": [],
   "source": [
    "map.save(\"myfilename.hspy\")"
   ]
  },
  {
   "cell_type": "markdown",
   "id": "f266e414-3d6b-4a8f-8599-d864e76c1b8f",
   "metadata": {},
   "source": [
    "# 🏠 Converting `.hspy` data to Digital Micrograph (DM) readable format\n",
    "\n",
    "You first need to install this plugin in DM : http://hyperspy.org/hyperspy-doc/current/user_guide/io.html#importrpl-digital-micrograph-plugin\n",
    "\n",
    "Then you just need to save your data in `.rpl` format using hyperspy. It will produce `.rpl` and `.raw` files. Using the DM plugin you'll be able to open the `.rpl` file and read your data in DM."
   ]
  },
  {
   "cell_type": "code",
   "execution_count": null,
   "id": "1b0cbb93-e5d3-4542-b41c-45858cd5f3ac",
   "metadata": {},
   "outputs": [],
   "source": [
    "spim.save(\"mychosenname.rpl\")"
   ]
  },
  {
   "cell_type": "markdown",
   "id": "53e4c65f-c25c-48ed-9763-f972339424ff",
   "metadata": {},
   "source": [
    "# Fitting 1D Spectrum\n",
    "\n",
    "Here we will fit the sum of spectra using gaussians. In this example, we only use one gaussian (for the zero loss peak), it is up to you to to fit the plasmonic signatures with more gaussians. **Call the supervisor of this practical for help if you are stuck**\n",
    "\n",
    "Using the fitting procedure on spectra you picked in the dataset you will be able to precisely determine the energy of the different spectral features. "
   ]
  },
  {
   "cell_type": "markdown",
   "id": "3a702ab9-c11b-432c-aa80-b86ca46e9206",
   "metadata": {},
   "source": [
    "## Initializing the model\n",
    "\n",
    "This part is divided in two cells. \n",
    "\n",
    "- In the first cell we initialize the objects we require : model and gaussian component. In that case, we also disable the PowerLaw background. We are mostly interested in a limited spectral range. For that we use : `model.set_signal_range`. \n",
    "\n",
    "- In the second cell, a window will pop up with in red the data and in blue the model (a flat line at the beginning). You can then tune the initial parameters of the gaussian using the interface below the second. It is all interactive."
   ]
  },
  {
   "cell_type": "code",
   "execution_count": null,
   "id": "9e4a66d8-066a-4d78-a7c2-9333b0d1d841",
   "metadata": {},
   "outputs": [],
   "source": [
    "# Creating the model on the sum of spectra\n",
    "model = spim.sum(axis = (0,1)).create_model()\n",
    "\n",
    "# Initialize a gaussian component and adds it to the model\n",
    "g = hs.model.components1D.Gaussian()\n",
    "model.extend([g])\n",
    "\n",
    "# We remove the useless background component\n",
    "model.disable_background()\n",
    "model.set_signal_range(0.2,5.0)"
   ]
  },
  {
   "cell_type": "code",
   "execution_count": null,
   "id": "8055254f-dd3e-4b7a-b505-490dde4308c1",
   "metadata": {},
   "outputs": [],
   "source": [
    "model.enable_adjust_position()\n",
    "model.gui()"
   ]
  },
  {
   "cell_type": "markdown",
   "id": "2a50779e-6634-470b-a662-76ccb6d9d845",
   "metadata": {},
   "source": [
    "## Fitting"
   ]
  },
  {
   "cell_type": "code",
   "execution_count": null,
   "id": "3dbd2704-5d14-4f63-b514-da523d4dea00",
   "metadata": {
    "tags": []
   },
   "outputs": [],
   "source": [
    "model.fit()"
   ]
  },
  {
   "cell_type": "markdown",
   "id": "fe937943-600c-42a9-bcce-9f45f0e07313",
   "metadata": {},
   "source": [
    "## Display the results"
   ]
  },
  {
   "cell_type": "markdown",
   "id": "15defb38-0330-4e9c-942d-00fc66efa357",
   "metadata": {},
   "source": [
    "### Plot\n",
    "\n",
    "Setting the keyword argument `plot_components=True` you can visualize the gaussian you added in green "
   ]
  },
  {
   "cell_type": "code",
   "execution_count": null,
   "id": "7d8f46d4-6b67-421e-940b-4b1eaadb431b",
   "metadata": {},
   "outputs": [],
   "source": [
    "model.plot(plot_components=True)"
   ]
  },
  {
   "cell_type": "markdown",
   "id": "dbfcacc8-79ad-4017-adbe-051fdac10252",
   "metadata": {},
   "source": [
    "### Model parameters\n",
    "\n",
    "A more detailed summary of the parameters obtained using fitting."
   ]
  },
  {
   "cell_type": "code",
   "execution_count": null,
   "id": "a2fcf28e-8218-4895-8878-de9e7bc46daa",
   "metadata": {},
   "outputs": [],
   "source": [
    "model.print_current_values()"
   ]
  }
 ],
 "metadata": {
  "kernelspec": {
   "display_name": "qem",
   "language": "python",
   "name": "qem"
  },
  "language_info": {
   "codemirror_mode": {
    "name": "ipython",
    "version": 3
   },
   "file_extension": ".py",
   "mimetype": "text/x-python",
   "name": "python",
   "nbconvert_exporter": "python",
   "pygments_lexer": "ipython3",
   "version": "3.8.13"
  },
  "varInspector": {
   "cols": {
    "lenName": 16,
    "lenType": 16,
    "lenVar": 40
   },
   "kernels_config": {
    "python": {
     "delete_cmd_postfix": "",
     "delete_cmd_prefix": "del ",
     "library": "var_list.py",
     "varRefreshCmd": "print(var_dic_list())"
    },
    "r": {
     "delete_cmd_postfix": ") ",
     "delete_cmd_prefix": "rm(",
     "library": "var_list.r",
     "varRefreshCmd": "cat(var_dic_list()) "
    }
   },
   "types_to_exclude": [
    "module",
    "function",
    "builtin_function_or_method",
    "instance",
    "_Feature"
   ],
   "window_display": false
  }
 },
 "nbformat": 4,
 "nbformat_minor": 5
}
